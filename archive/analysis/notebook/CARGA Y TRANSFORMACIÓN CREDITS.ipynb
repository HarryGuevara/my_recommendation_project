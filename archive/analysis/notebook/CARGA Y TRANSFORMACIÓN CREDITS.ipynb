{
 "cells": [
  {
   "cell_type": "code",
   "execution_count": 1,
   "metadata": {},
   "outputs": [
    {
     "name": "stdout",
     "output_type": "stream",
     "text": [
      "Archivo limpiado y guardado correctamente.\n"
     ]
    }
   ],
   "source": [
    "# Ruta al archivo\n",
    "ruta_archivo = r\"C:\\Users\\USUARIO\\OneDrive - Secretaria de Educacion del Distrito\\Escritorio\\SOYhENRY\\my_recommendation_project\\DATA\\credits.csv\"\n",
    "\n",
    "# Leer el archivo\n",
    "with open(ruta_archivo, 'r', encoding='utf-8') as file:\n",
    "    contenido = file.read()\n",
    "\n",
    "# Reemplazar caracteres inusuales\n",
    "contenido = contenido.replace('\\u2028', '\\n')  # Reemplazar LS con LF\n",
    "contenido = contenido.replace('\\u2029', '\\n')  # Reemplazar PS con LF\n",
    "\n",
    "# Guardar el archivo limpio\n",
    "with open(ruta_archivo, 'w', encoding='utf-8') as file:\n",
    "    file.write(contenido)\n",
    "\n",
    "print(\"Archivo limpiado y guardado correctamente.\")"
   ]
  },
  {
   "cell_type": "code",
   "execution_count": 2,
   "metadata": {},
   "outputs": [
    {
     "name": "stdout",
     "output_type": "stream",
     "text": [
      "cast    object\n",
      "crew    object\n",
      "id       int64\n",
      "dtype: object\n"
     ]
    }
   ],
   "source": [
    "import pandas as pd\n",
    "\n",
    "# Ruta al archivo\n",
    "ruta_completa = r\"C:\\Users\\USUARIO\\OneDrive - Secretaria de Educacion del Distrito\\Escritorio\\SOYhENRY\\my_recommendation_project\\DATA\\credits.csv\"\n",
    "\n",
    "# Especificar que la columna 10 (overview) sea de tipo string\n",
    "df = pd.read_csv(ruta_completa, dtype={10: str})\n",
    "\n",
    "# Verificar el tipo de dato de la columna \"overview\"\n",
    "print(df.dtypes)"
   ]
  },
  {
   "cell_type": "code",
   "execution_count": 1,
   "metadata": {},
   "outputs": [],
   "source": [
    "import pandas as pd\n",
    "import numpy as np\n",
    "import matplotlib.pyplot as plt\n",
    "import seaborn as sns\n"
   ]
  },
  {
   "cell_type": "code",
   "execution_count": 4,
   "metadata": {},
   "outputs": [
    {
     "name": "stdout",
     "output_type": "stream",
     "text": [
      "\n",
      "Información del DataFrame:\n"
     ]
    },
    {
     "data": {
      "text/html": [
       "<div>\n",
       "<style scoped>\n",
       "    .dataframe tbody tr th:only-of-type {\n",
       "        vertical-align: middle;\n",
       "    }\n",
       "\n",
       "    .dataframe tbody tr th {\n",
       "        vertical-align: top;\n",
       "    }\n",
       "\n",
       "    .dataframe thead th {\n",
       "        text-align: right;\n",
       "    }\n",
       "</style>\n",
       "<table border=\"1\" class=\"dataframe\">\n",
       "  <thead>\n",
       "    <tr style=\"text-align: right;\">\n",
       "      <th></th>\n",
       "      <th>cast</th>\n",
       "      <th>crew</th>\n",
       "      <th>id</th>\n",
       "    </tr>\n",
       "  </thead>\n",
       "  <tbody>\n",
       "    <tr>\n",
       "      <th>0</th>\n",
       "      <td>[{'cast_id': 14, 'character': 'Woody (voice)',...</td>\n",
       "      <td>[{'credit_id': '52fe4284c3a36847f8024f49', 'de...</td>\n",
       "      <td>862</td>\n",
       "    </tr>\n",
       "    <tr>\n",
       "      <th>1</th>\n",
       "      <td>[{'cast_id': 1, 'character': 'Alan Parrish', '...</td>\n",
       "      <td>[{'credit_id': '52fe44bfc3a36847f80a7cd1', 'de...</td>\n",
       "      <td>8844</td>\n",
       "    </tr>\n",
       "    <tr>\n",
       "      <th>2</th>\n",
       "      <td>[{'cast_id': 2, 'character': 'Max Goldman', 'c...</td>\n",
       "      <td>[{'credit_id': '52fe466a9251416c75077a89', 'de...</td>\n",
       "      <td>15602</td>\n",
       "    </tr>\n",
       "    <tr>\n",
       "      <th>3</th>\n",
       "      <td>[{'cast_id': 1, 'character': \"Savannah 'Vannah...</td>\n",
       "      <td>[{'credit_id': '52fe44779251416c91011acb', 'de...</td>\n",
       "      <td>31357</td>\n",
       "    </tr>\n",
       "    <tr>\n",
       "      <th>4</th>\n",
       "      <td>[{'cast_id': 1, 'character': 'George Banks', '...</td>\n",
       "      <td>[{'credit_id': '52fe44959251416c75039ed7', 'de...</td>\n",
       "      <td>11862</td>\n",
       "    </tr>\n",
       "  </tbody>\n",
       "</table>\n",
       "</div>"
      ],
      "text/plain": [
       "                                                cast  \\\n",
       "0  [{'cast_id': 14, 'character': 'Woody (voice)',...   \n",
       "1  [{'cast_id': 1, 'character': 'Alan Parrish', '...   \n",
       "2  [{'cast_id': 2, 'character': 'Max Goldman', 'c...   \n",
       "3  [{'cast_id': 1, 'character': \"Savannah 'Vannah...   \n",
       "4  [{'cast_id': 1, 'character': 'George Banks', '...   \n",
       "\n",
       "                                                crew     id  \n",
       "0  [{'credit_id': '52fe4284c3a36847f8024f49', 'de...    862  \n",
       "1  [{'credit_id': '52fe44bfc3a36847f80a7cd1', 'de...   8844  \n",
       "2  [{'credit_id': '52fe466a9251416c75077a89', 'de...  15602  \n",
       "3  [{'credit_id': '52fe44779251416c91011acb', 'de...  31357  \n",
       "4  [{'credit_id': '52fe44959251416c75039ed7', 'de...  11862  "
      ]
     },
     "execution_count": 4,
     "metadata": {},
     "output_type": "execute_result"
    }
   ],
   "source": [
    "# Mostrar primeras filas del DataFrame\n",
    "print(\"\\nInformación del DataFrame:\")\n",
    "df.head()"
   ]
  },
  {
   "cell_type": "code",
   "execution_count": 5,
   "metadata": {},
   "outputs": [
    {
     "name": "stdout",
     "output_type": "stream",
     "text": [
      "\n",
      "Información del DataFrame:\n",
      "<class 'pandas.core.frame.DataFrame'>\n",
      "RangeIndex: 45476 entries, 0 to 45475\n",
      "Data columns (total 3 columns):\n",
      " #   Column  Non-Null Count  Dtype \n",
      "---  ------  --------------  ----- \n",
      " 0   cast    45476 non-null  object\n",
      " 1   crew    45476 non-null  object\n",
      " 2   id      45476 non-null  int64 \n",
      "dtypes: int64(1), object(2)\n",
      "memory usage: 1.0+ MB\n"
     ]
    }
   ],
   "source": [
    "# Mostrar información del DataFrame\n",
    "print(\"\\nInformación del DataFrame:\")\n",
    "df.info()"
   ]
  },
  {
   "cell_type": "code",
   "execution_count": 2,
   "metadata": {},
   "outputs": [
    {
     "name": "stdout",
     "output_type": "stream",
     "text": [
      "   movie_id  cast_id                character                 credit_id  \\\n",
      "0       862       14            Woody (voice)  52fe4284c3a36847f8024f95   \n",
      "1       862       15   Buzz Lightyear (voice)  52fe4284c3a36847f8024f99   \n",
      "2       862       16  Mr. Potato Head (voice)  52fe4284c3a36847f8024f9d   \n",
      "3       862       17       Slinky Dog (voice)  52fe4284c3a36847f8024fa1   \n",
      "4       862       18              Rex (voice)  52fe4284c3a36847f8024fa5   \n",
      "\n",
      "   gender     id           name  order  \n",
      "0       2     31      Tom Hanks      0  \n",
      "1       2  12898      Tim Allen      1  \n",
      "2       2   7167    Don Rickles      2  \n",
      "3       2  12899     Jim Varney      3  \n",
      "4       2  12900  Wallace Shawn      4  \n"
     ]
    }
   ],
   "source": [
    "# Ruta al archivo\n",
    "ruta_cast_csv = r\"C:\\Users\\USUARIO\\OneDrive - Secretaria de Educacion del Distrito\\Escritorio\\SOYhENRY\\my_recommendation_project\\DATA\\cast.csv\"\n",
    "\n",
    "# Cargar el archivo CSV en un DataFrame\n",
    "df_cast = pd.read_csv(ruta_cast_csv)\n",
    "\n",
    "# Mostrar las primeras filas del DataFrame\n",
    "print(df_cast.head())"
   ]
  },
  {
   "cell_type": "code",
   "execution_count": 3,
   "metadata": {},
   "outputs": [
    {
     "name": "stdout",
     "output_type": "stream",
     "text": [
      "   movie_id  cast_id                character                 credit_id  \\\n",
      "0       862       14            Woody (voice)  52fe4284c3a36847f8024f95   \n",
      "1       862       15   Buzz Lightyear (voice)  52fe4284c3a36847f8024f99   \n",
      "2       862       16  Mr. Potato Head (voice)  52fe4284c3a36847f8024f9d   \n",
      "3       862       17       Slinky Dog (voice)  52fe4284c3a36847f8024fa1   \n",
      "4       862       18              Rex (voice)  52fe4284c3a36847f8024fa5   \n",
      "\n",
      "   gender     id           name  order  \n",
      "0       2     31      Tom Hanks      0  \n",
      "1       2  12898      Tim Allen      1  \n",
      "2       2   7167    Don Rickles      2  \n",
      "3       2  12899     Jim Varney      3  \n",
      "4       2  12900  Wallace Shawn      4  \n"
     ]
    }
   ],
   "source": [
    "print(df_cast.head())"
   ]
  },
  {
   "cell_type": "code",
   "execution_count": 4,
   "metadata": {},
   "outputs": [
    {
     "name": "stdout",
     "output_type": "stream",
     "text": [
      "<class 'pandas.core.frame.DataFrame'>\n",
      "RangeIndex: 562505 entries, 0 to 562504\n",
      "Data columns (total 8 columns):\n",
      " #   Column     Non-Null Count   Dtype \n",
      "---  ------     --------------   ----- \n",
      " 0   movie_id   562505 non-null  int64 \n",
      " 1   cast_id    562505 non-null  int64 \n",
      " 2   character  536721 non-null  object\n",
      " 3   credit_id  562505 non-null  object\n",
      " 4   gender     562505 non-null  int64 \n",
      " 5   id         562505 non-null  int64 \n",
      " 6   name       562505 non-null  object\n",
      " 7   order      562505 non-null  int64 \n",
      "dtypes: int64(5), object(3)\n",
      "memory usage: 34.3+ MB\n",
      "None\n"
     ]
    }
   ],
   "source": [
    "print(df_cast.info())"
   ]
  },
  {
   "cell_type": "code",
   "execution_count": 5,
   "metadata": {},
   "outputs": [
    {
     "name": "stdout",
     "output_type": "stream",
     "text": [
      "   movie_id                 credit_id department  gender     id         job  \\\n",
      "0       862  52fe4284c3a36847f8024f49  Directing       2   7879    Director   \n",
      "1       862  52fe4284c3a36847f8024f4f    Writing       2  12891  Screenplay   \n",
      "2       862  52fe4284c3a36847f8024f55    Writing       2      7  Screenplay   \n",
      "3       862  52fe4284c3a36847f8024f5b    Writing       2  12892  Screenplay   \n",
      "4       862  52fe4284c3a36847f8024f61    Writing       0  12893  Screenplay   \n",
      "\n",
      "             name  \n",
      "0   John Lasseter  \n",
      "1     Joss Whedon  \n",
      "2  Andrew Stanton  \n",
      "3      Joel Cohen  \n",
      "4    Alec Sokolow  \n"
     ]
    }
   ],
   "source": [
    "# Ruta al archivo\n",
    "ruta_crew_csv = r\"C:\\Users\\USUARIO\\OneDrive - Secretaria de Educacion del Distrito\\Escritorio\\SOYhENRY\\my_recommendation_project\\DATA\\crew.csv\"\n",
    "\n",
    "# Cargar el archivo CSV en un DataFrame\n",
    "df_crew = pd.read_csv(ruta_crew_csv)\n",
    "\n",
    "# Mostrar las primeras filas del DataFrame\n",
    "print(df_crew.head())"
   ]
  },
  {
   "cell_type": "code",
   "execution_count": 6,
   "metadata": {},
   "outputs": [
    {
     "name": "stdout",
     "output_type": "stream",
     "text": [
      "   movie_id                 credit_id department  gender     id         job  \\\n",
      "0       862  52fe4284c3a36847f8024f49  Directing       2   7879    Director   \n",
      "1       862  52fe4284c3a36847f8024f4f    Writing       2  12891  Screenplay   \n",
      "2       862  52fe4284c3a36847f8024f55    Writing       2      7  Screenplay   \n",
      "3       862  52fe4284c3a36847f8024f5b    Writing       2  12892  Screenplay   \n",
      "4       862  52fe4284c3a36847f8024f61    Writing       0  12893  Screenplay   \n",
      "\n",
      "             name  \n",
      "0   John Lasseter  \n",
      "1     Joss Whedon  \n",
      "2  Andrew Stanton  \n",
      "3      Joel Cohen  \n",
      "4    Alec Sokolow  \n"
     ]
    }
   ],
   "source": [
    "print(df_crew.head())"
   ]
  },
  {
   "cell_type": "code",
   "execution_count": 7,
   "metadata": {},
   "outputs": [
    {
     "name": "stdout",
     "output_type": "stream",
     "text": [
      "<class 'pandas.core.frame.DataFrame'>\n",
      "RangeIndex: 464314 entries, 0 to 464313\n",
      "Data columns (total 7 columns):\n",
      " #   Column      Non-Null Count   Dtype \n",
      "---  ------      --------------   ----- \n",
      " 0   movie_id    464314 non-null  int64 \n",
      " 1   credit_id   464314 non-null  object\n",
      " 2   department  464314 non-null  object\n",
      " 3   gender      464314 non-null  int64 \n",
      " 4   id          464314 non-null  int64 \n",
      " 5   job         464314 non-null  object\n",
      " 6   name        464314 non-null  object\n",
      "dtypes: int64(3), object(4)\n",
      "memory usage: 24.8+ MB\n",
      "None\n"
     ]
    }
   ],
   "source": [
    "print(df_crew.info())"
   ]
  }
 ],
 "metadata": {
  "kernelspec": {
   "display_name": "Python 3",
   "language": "python",
   "name": "python3"
  },
  "language_info": {
   "codemirror_mode": {
    "name": "ipython",
    "version": 3
   },
   "file_extension": ".py",
   "mimetype": "text/x-python",
   "name": "python",
   "nbconvert_exporter": "python",
   "pygments_lexer": "ipython3",
   "version": "3.13.0"
  }
 },
 "nbformat": 4,
 "nbformat_minor": 2
}
