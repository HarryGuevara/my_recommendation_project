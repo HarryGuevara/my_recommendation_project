{
 "cells": [
  {
   "cell_type": "code",
   "execution_count": 1,
   "metadata": {},
   "outputs": [],
   "source": [
    "import pandas as pd\n",
    "\n",
    "# 1. Cargar los datos\n",
    "path = \"C:/Users/USUARIO/Desktop/SOYhENRY/sistema de recomendacion/Movies/CSV/\"\n",
    "\n",
    "# Archivos CSV\n",
    "belongs_to_collection = pd.read_csv(path + \"belongs_to_collection_clean.csv\")\n",
    "movies_with_genres = pd.read_csv(path + \"movies_with_genres.csv\")\n",
    "crew_desanidado = pd.read_csv(path + \"crew_desanidado.csv\")\n",
    "all_genres = pd.read_csv(path + \"all_genres.csv\")\n",
    "\n"
   ]
  },
  {
   "cell_type": "code",
   "execution_count": 3,
   "metadata": {},
   "outputs": [],
   "source": [
    "# 2. Explorar cada dataset\n",
    "# Mostrar primeras filas y estructura\n",
    "def explore_data(df, name):\n",
    "    print(f\"\\nDataset: {name}\")\n",
    "    print(df.head())\n",
    "    print(f\"Shape: {df.shape}\")\n",
    "    print(\"\\nNull values:\")\n",
    "    print(df.isnull().sum())\n",
    "    print(\"\\nBasic statistics:\")\n",
    "    print(df.describe(include='all'))\n"
   ]
  },
  {
   "cell_type": "code",
   "execution_count": 4,
   "metadata": {},
   "outputs": [
    {
     "name": "stdout",
     "output_type": "stream",
     "text": [
      "\n",
      "Dataset: Belongs to Collection\n",
      "   movie_id                            name\n",
      "0     10194            Toy Story Collection\n",
      "1    119050       Grumpy Old Men Collection\n",
      "2     96871  Father of the Bride Collection\n",
      "3       645           James Bond Collection\n",
      "4    117693                Balto Collection\n",
      "Shape: (4491, 2)\n",
      "\n",
      "Null values:\n",
      "movie_id    0\n",
      "name        0\n",
      "dtype: int64\n",
      "\n",
      "Basic statistics:\n",
      "             movie_id             name\n",
      "count     4491.000000             4491\n",
      "unique            NaN             1695\n",
      "top               NaN  The Bowery Boys\n",
      "freq              NaN               29\n",
      "mean    184108.678913              NaN\n",
      "std     141605.338687              NaN\n",
      "min         10.000000              NaN\n",
      "25%      86027.000000              NaN\n",
      "50%     141615.000000              NaN\n",
      "75%     294172.000000              NaN\n",
      "max     480160.000000              NaN\n"
     ]
    }
   ],
   "source": [
    "#Aplicar la función a cada archivo\n",
    "explore_data(belongs_to_collection, \"Belongs to Collection\")\n"
   ]
  },
  {
   "cell_type": "code",
   "execution_count": 5,
   "metadata": {},
   "outputs": [
    {
     "name": "stdout",
     "output_type": "stream",
     "text": [
      "\n",
      "Dataset: Movies with Genres\n",
      "  movie_id        genre_ids\n",
      "0      862  [16, 35, 10751]\n",
      "1     8844  [12, 14, 10751]\n",
      "2    15602      [10749, 35]\n",
      "3    31357  [35, 18, 10749]\n",
      "4    11862             [35]\n",
      "Shape: (45466, 2)\n",
      "\n",
      "Null values:\n",
      "movie_id     0\n",
      "genre_ids    0\n",
      "dtype: int64\n",
      "\n",
      "Basic statistics:\n",
      "       movie_id genre_ids\n",
      "count     45466     45466\n",
      "unique    45436      4069\n",
      "top      141971      [18]\n",
      "freq          3      5000\n"
     ]
    }
   ],
   "source": [
    "#Aplicar la función a cada archivo\n",
    "explore_data(movies_with_genres, \"Movies with Genres\")"
   ]
  },
  {
   "cell_type": "code",
   "execution_count": 6,
   "metadata": {},
   "outputs": [
    {
     "name": "stdout",
     "output_type": "stream",
     "text": [
      "\n",
      "Dataset: Crew Desanidado\n",
      "   movie_id                 credit_id department  gender     id         job  \\\n",
      "0       862  52fe4284c3a36847f8024f49  Directing       2   7879    Director   \n",
      "1       862  52fe4284c3a36847f8024f4f    Writing       2  12891  Screenplay   \n",
      "2       862  52fe4284c3a36847f8024f55    Writing       2      7  Screenplay   \n",
      "3       862  52fe4284c3a36847f8024f5b    Writing       2  12892  Screenplay   \n",
      "4       862  52fe4284c3a36847f8024f61    Writing       0  12893  Screenplay   \n",
      "\n",
      "             name  \n",
      "0   John Lasseter  \n",
      "1     Joss Whedon  \n",
      "2  Andrew Stanton  \n",
      "3      Joel Cohen  \n",
      "4    Alec Sokolow  \n",
      "Shape: (464314, 7)\n",
      "\n",
      "Null values:\n",
      "movie_id      0\n",
      "credit_id     0\n",
      "department    0\n",
      "gender        0\n",
      "id            0\n",
      "job           0\n",
      "name          0\n",
      "dtype: int64\n",
      "\n",
      "Basic statistics:\n",
      "             movie_id                 credit_id  department         gender  \\\n",
      "count   464314.000000                    464314      464314  464314.000000   \n",
      "unique            NaN                    463836          12            NaN   \n",
      "top               NaN  52fe4ac89251416c750edd47  Production            NaN   \n",
      "freq              NaN                         3       94498            NaN   \n",
      "mean     94669.206169                       NaN         NaN       0.759975   \n",
      "std     115161.358824                       NaN         NaN       0.935607   \n",
      "min          2.000000                       NaN         NaN       0.000000   \n",
      "25%      11562.000000                       NaN         NaN       0.000000   \n",
      "50%      42114.000000                       NaN         NaN       0.000000   \n",
      "75%     133698.000000                       NaN         NaN       2.000000   \n",
      "max     469172.000000                       NaN         NaN       2.000000   \n",
      "\n",
      "                  id       job            name  \n",
      "count   4.643140e+05    464314          464314  \n",
      "unique           NaN       456          157614  \n",
      "top              NaN  Director  Cedric Gibbons  \n",
      "freq             NaN     49048             272  \n",
      "mean    6.456037e+05       NaN             NaN  \n",
      "std     6.791434e+05       NaN             NaN  \n",
      "min     1.000000e+00       NaN             NaN  \n",
      "25%     3.025600e+04       NaN             NaN  \n",
      "50%     1.347900e+05       NaN             NaN  \n",
      "75%     1.388851e+06       NaN             NaN  \n",
      "max     1.908001e+06       NaN             NaN  \n"
     ]
    }
   ],
   "source": [
    "#Aplicar la función a cada archivo\n",
    "explore_data(crew_desanidado, \"Crew Desanidado\")\n"
   ]
  },
  {
   "cell_type": "code",
   "execution_count": 7,
   "metadata": {},
   "outputs": [
    {
     "name": "stdout",
     "output_type": "stream",
     "text": [
      "\n",
      "Dataset: All Genres\n",
      "   genre_ids       name\n",
      "0         16  Animation\n",
      "1         35     Comedy\n",
      "2      10751     Family\n",
      "3         12  Adventure\n",
      "4         14    Fantasy\n",
      "Shape: (32, 2)\n",
      "\n",
      "Null values:\n",
      "genre_ids    0\n",
      "name         0\n",
      "dtype: int64\n",
      "\n",
      "Basic statistics:\n",
      "           genre_ids       name\n",
      "count      32.000000         32\n",
      "unique           NaN         32\n",
      "top              NaN  Animation\n",
      "freq             NaN          1\n",
      "mean     8271.437500        NaN\n",
      "std      9120.501401        NaN\n",
      "min        12.000000        NaN\n",
      "25%        36.750000        NaN\n",
      "50%      7760.500000        NaN\n",
      "75%     10871.500000        NaN\n",
      "max     33751.000000        NaN\n"
     ]
    }
   ],
   "source": [
    "#Aplicar la función a cada archivo\n",
    "explore_data(all_genres, \"All Genres\")\n"
   ]
  },
  {
   "cell_type": "code",
   "execution_count": 8,
   "metadata": {},
   "outputs": [
    {
     "name": "stdout",
     "output_type": "stream",
     "text": [
      "\n",
      "Top 5 movies with decoded genres:\n",
      "  movie_id        genre_ids genre_name\n",
      "0      862  [16, 35, 10751]        NaN\n",
      "1     8844  [12, 14, 10751]        NaN\n",
      "2    15602      [10749, 35]        NaN\n",
      "3    31357  [35, 18, 10749]        NaN\n",
      "4    11862             [35]        NaN\n"
     ]
    }
   ],
   "source": [
    "# 3. Insights preliminares\n",
    "# Decodificar géneros en Movies_with_genres\n",
    "movies_with_genres = movies_with_genres.explode(\"genre_ids\")\n",
    "movies_with_genres[\"genre_ids\"] = movies_with_genres[\"genre_ids\"].astype(str)\n",
    "all_genres[\"genre_ids\"] = all_genres[\"genre_ids\"].astype(str)\n",
    "\n",
    "genre_map = dict(zip(all_genres[\"genre_ids\"], all_genres[\"name\"]))\n",
    "movies_with_genres[\"genre_name\"] = movies_with_genres[\"genre_ids\"].map(genre_map)\n",
    "\n",
    "print(\"\\nTop 5 movies with decoded genres:\")\n",
    "print(movies_with_genres.head())"
   ]
  },
  {
   "cell_type": "code",
   "execution_count": 9,
   "metadata": {},
   "outputs": [
    {
     "name": "stdout",
     "output_type": "stream",
     "text": [
      "\n",
      "Top roles in crew:\n",
      "job\n",
      "Director                   49048\n",
      "Producer                   43555\n",
      "Writer                     30431\n",
      "Screenplay                 25163\n",
      "Editor                     23800\n",
      "Director of Photography    20659\n",
      "Executive Producer         18866\n",
      "Original Music Composer    15790\n",
      "Casting                    12635\n",
      "Art Direction              11689\n",
      "dtype: int64\n"
     ]
    }
   ],
   "source": [
    "\n",
    "# Roles clave en Crew\n",
    "crew_roles = crew_desanidado.groupby(\"job\").size().sort_values(ascending=False)\n",
    "print(\"\\nTop roles in crew:\")\n",
    "print(crew_roles.head(10))\n"
   ]
  },
  {
   "cell_type": "code",
   "execution_count": 12,
   "metadata": {},
   "outputs": [
    {
     "name": "stdout",
     "output_type": "stream",
     "text": [
      "\n",
      "Top genres per collection:\n",
      "Series([], Name: genre_name, dtype: object)\n"
     ]
    }
   ],
   "source": [
    "# Asegurarse de que 'movie_id' sea del mismo tipo en ambos DataFrames\n",
    "belongs_to_collection[\"movie_id\"] = belongs_to_collection[\"movie_id\"].astype(str)\n",
    "movies_with_genres[\"movie_id\"] = movies_with_genres[\"movie_id\"].astype(str)\n",
    "\n",
    "# Realizar el merge\n",
    "collection_genres = pd.merge(belongs_to_collection, movies_with_genres, on=\"movie_id\", how=\"inner\")\n",
    "\n",
    "# Agrupar y resumir los géneros por colección\n",
    "collection_genres_summary = (\n",
    "    collection_genres.groupby(\"name\")[\"genre_name\"]\n",
    "    .apply(lambda x: x.value_counts().head(3))\n",
    ")\n",
    "\n",
    "print(\"\\nTop genres per collection:\")\n",
    "print(collection_genres_summary)\n"
   ]
  },
  {
   "cell_type": "code",
   "execution_count": 13,
   "metadata": {},
   "outputs": [],
   "source": [
    "# 4. Guardar resultados preliminares para análisis posterior\n",
    "movies_with_genres.to_csv(path + \"movies_with_decoded_genres.csv\", index=False)\n",
    "crew_roles.to_csv(path + \"crew_roles_summary.csv\")\n",
    "collection_genres_summary.to_csv(path + \"collection_genres_summary.csv\")\n"
   ]
  },
  {
   "cell_type": "code",
   "execution_count": 14,
   "metadata": {},
   "outputs": [
    {
     "name": "stdout",
     "output_type": "stream",
     "text": [
      "Frecuencia de géneros por colección:\n",
      "Series([], Name: count, dtype: int64)\n"
     ]
    }
   ],
   "source": [
    "genre_frequency = collection_genres[\"genre_name\"].value_counts()\n",
    "print(\"Frecuencia de géneros por colección:\")\n",
    "print(genre_frequency)\n"
   ]
  },
  {
   "cell_type": "code",
   "execution_count": 15,
   "metadata": {},
   "outputs": [
    {
     "name": "stdout",
     "output_type": "stream",
     "text": [
      "Distribución total de géneros:\n",
      "name\n",
      "Animation                                1\n",
      "Comedy                                   1\n",
      "Family                                   1\n",
      "Adventure                                1\n",
      "Fantasy                                  1\n",
      "Romance                                  1\n",
      "Drama                                    1\n",
      "Action                                   1\n",
      "Crime                                    1\n",
      "Thriller                                 1\n",
      "Horror                                   1\n",
      "History                                  1\n",
      "Science Fiction                          1\n",
      "Mystery                                  1\n",
      "War                                      1\n",
      "Foreign                                  1\n",
      "Music                                    1\n",
      "Documentary                              1\n",
      "Western                                  1\n",
      "TV Movie                                 1\n",
      "Carousel Productions                     1\n",
      "Vision View Entertainment                1\n",
      "Telescene Film Group Productions         1\n",
      "Aniplex                                  1\n",
      "GoHands                                  1\n",
      "BROSTA TV                                1\n",
      "Mardock Scramble Production Committee    1\n",
      "Sentai Filmworks                         1\n",
      "Odyssey Media                            1\n",
      "Pulser Productions                       1\n",
      "Rogue State                              1\n",
      "The Cartel                               1\n",
      "Name: count, dtype: int64\n"
     ]
    }
   ],
   "source": [
    "total_genre_distribution = all_genres[\"name\"].value_counts()\n",
    "print(\"Distribución total de géneros:\")\n",
    "print(total_genre_distribution)\n"
   ]
  },
  {
   "cell_type": "code",
   "execution_count": 16,
   "metadata": {},
   "outputs": [
    {
     "name": "stdout",
     "output_type": "stream",
     "text": [
      "\n",
      "Resumen de valores nulos:\n",
      "movie_id      0\n",
      "name          0\n",
      "genre_ids     0\n",
      "genre_name    0\n",
      "dtype: int64\n"
     ]
    }
   ],
   "source": [
    "null_summary = collection_genres.isnull().sum()\n",
    "print(\"\\nResumen de valores nulos:\")\n",
    "print(null_summary)\n"
   ]
  },
  {
   "cell_type": "code",
   "execution_count": 17,
   "metadata": {},
   "outputs": [
    {
     "ename": "ValueError",
     "evalue": "You are trying to merge on object and int64 columns for key 'movie_id'. If you wish to proceed you should use pd.concat",
     "output_type": "error",
     "traceback": [
      "\u001b[1;31m---------------------------------------------------------------------------\u001b[0m",
      "\u001b[1;31mValueError\u001b[0m                                Traceback (most recent call last)",
      "Cell \u001b[1;32mIn[17], line 1\u001b[0m\n\u001b[1;32m----> 1\u001b[0m genre_roles \u001b[38;5;241m=\u001b[39m \u001b[43mpd\u001b[49m\u001b[38;5;241;43m.\u001b[39;49m\u001b[43mmerge\u001b[49m\u001b[43m(\u001b[49m\u001b[43mmovies_with_genres\u001b[49m\u001b[43m,\u001b[49m\u001b[43m \u001b[49m\u001b[43mcrew_desanidado\u001b[49m\u001b[43m,\u001b[49m\u001b[43m \u001b[49m\u001b[43mon\u001b[49m\u001b[38;5;241;43m=\u001b[39;49m\u001b[38;5;124;43m\"\u001b[39;49m\u001b[38;5;124;43mmovie_id\u001b[39;49m\u001b[38;5;124;43m\"\u001b[39;49m\u001b[43m,\u001b[49m\u001b[43m \u001b[49m\u001b[43mhow\u001b[49m\u001b[38;5;241;43m=\u001b[39;49m\u001b[38;5;124;43m\"\u001b[39;49m\u001b[38;5;124;43minner\u001b[39;49m\u001b[38;5;124;43m\"\u001b[39;49m\u001b[43m)\u001b[49m\n\u001b[0;32m      2\u001b[0m genre_roles_summary \u001b[38;5;241m=\u001b[39m genre_roles\u001b[38;5;241m.\u001b[39mgroupby([\u001b[38;5;124m\"\u001b[39m\u001b[38;5;124mgenre_name\u001b[39m\u001b[38;5;124m\"\u001b[39m, \u001b[38;5;124m\"\u001b[39m\u001b[38;5;124mjob\u001b[39m\u001b[38;5;124m\"\u001b[39m])[\u001b[38;5;124m\"\u001b[39m\u001b[38;5;124mmovie_id\u001b[39m\u001b[38;5;124m\"\u001b[39m]\u001b[38;5;241m.\u001b[39mcount()\n\u001b[0;32m      3\u001b[0m \u001b[38;5;28mprint\u001b[39m(\u001b[38;5;124m\"\u001b[39m\u001b[38;5;124mRoles más comunes por género:\u001b[39m\u001b[38;5;124m\"\u001b[39m)\n",
      "File \u001b[1;32mc:\\Program Files\\Python313\\Lib\\site-packages\\pandas\\core\\reshape\\merge.py:170\u001b[0m, in \u001b[0;36mmerge\u001b[1;34m(left, right, how, on, left_on, right_on, left_index, right_index, sort, suffixes, copy, indicator, validate)\u001b[0m\n\u001b[0;32m    155\u001b[0m     \u001b[38;5;28;01mreturn\u001b[39;00m _cross_merge(\n\u001b[0;32m    156\u001b[0m         left_df,\n\u001b[0;32m    157\u001b[0m         right_df,\n\u001b[1;32m   (...)\u001b[0m\n\u001b[0;32m    167\u001b[0m         copy\u001b[38;5;241m=\u001b[39mcopy,\n\u001b[0;32m    168\u001b[0m     )\n\u001b[0;32m    169\u001b[0m \u001b[38;5;28;01melse\u001b[39;00m:\n\u001b[1;32m--> 170\u001b[0m     op \u001b[38;5;241m=\u001b[39m \u001b[43m_MergeOperation\u001b[49m\u001b[43m(\u001b[49m\n\u001b[0;32m    171\u001b[0m \u001b[43m        \u001b[49m\u001b[43mleft_df\u001b[49m\u001b[43m,\u001b[49m\n\u001b[0;32m    172\u001b[0m \u001b[43m        \u001b[49m\u001b[43mright_df\u001b[49m\u001b[43m,\u001b[49m\n\u001b[0;32m    173\u001b[0m \u001b[43m        \u001b[49m\u001b[43mhow\u001b[49m\u001b[38;5;241;43m=\u001b[39;49m\u001b[43mhow\u001b[49m\u001b[43m,\u001b[49m\n\u001b[0;32m    174\u001b[0m \u001b[43m        \u001b[49m\u001b[43mon\u001b[49m\u001b[38;5;241;43m=\u001b[39;49m\u001b[43mon\u001b[49m\u001b[43m,\u001b[49m\n\u001b[0;32m    175\u001b[0m \u001b[43m        \u001b[49m\u001b[43mleft_on\u001b[49m\u001b[38;5;241;43m=\u001b[39;49m\u001b[43mleft_on\u001b[49m\u001b[43m,\u001b[49m\n\u001b[0;32m    176\u001b[0m \u001b[43m        \u001b[49m\u001b[43mright_on\u001b[49m\u001b[38;5;241;43m=\u001b[39;49m\u001b[43mright_on\u001b[49m\u001b[43m,\u001b[49m\n\u001b[0;32m    177\u001b[0m \u001b[43m        \u001b[49m\u001b[43mleft_index\u001b[49m\u001b[38;5;241;43m=\u001b[39;49m\u001b[43mleft_index\u001b[49m\u001b[43m,\u001b[49m\n\u001b[0;32m    178\u001b[0m \u001b[43m        \u001b[49m\u001b[43mright_index\u001b[49m\u001b[38;5;241;43m=\u001b[39;49m\u001b[43mright_index\u001b[49m\u001b[43m,\u001b[49m\n\u001b[0;32m    179\u001b[0m \u001b[43m        \u001b[49m\u001b[43msort\u001b[49m\u001b[38;5;241;43m=\u001b[39;49m\u001b[43msort\u001b[49m\u001b[43m,\u001b[49m\n\u001b[0;32m    180\u001b[0m \u001b[43m        \u001b[49m\u001b[43msuffixes\u001b[49m\u001b[38;5;241;43m=\u001b[39;49m\u001b[43msuffixes\u001b[49m\u001b[43m,\u001b[49m\n\u001b[0;32m    181\u001b[0m \u001b[43m        \u001b[49m\u001b[43mindicator\u001b[49m\u001b[38;5;241;43m=\u001b[39;49m\u001b[43mindicator\u001b[49m\u001b[43m,\u001b[49m\n\u001b[0;32m    182\u001b[0m \u001b[43m        \u001b[49m\u001b[43mvalidate\u001b[49m\u001b[38;5;241;43m=\u001b[39;49m\u001b[43mvalidate\u001b[49m\u001b[43m,\u001b[49m\n\u001b[0;32m    183\u001b[0m \u001b[43m    \u001b[49m\u001b[43m)\u001b[49m\n\u001b[0;32m    184\u001b[0m     \u001b[38;5;28;01mreturn\u001b[39;00m op\u001b[38;5;241m.\u001b[39mget_result(copy\u001b[38;5;241m=\u001b[39mcopy)\n",
      "File \u001b[1;32mc:\\Program Files\\Python313\\Lib\\site-packages\\pandas\\core\\reshape\\merge.py:807\u001b[0m, in \u001b[0;36m_MergeOperation.__init__\u001b[1;34m(self, left, right, how, on, left_on, right_on, left_index, right_index, sort, suffixes, indicator, validate)\u001b[0m\n\u001b[0;32m    803\u001b[0m \u001b[38;5;28mself\u001b[39m\u001b[38;5;241m.\u001b[39m_validate_tolerance(\u001b[38;5;28mself\u001b[39m\u001b[38;5;241m.\u001b[39mleft_join_keys)\n\u001b[0;32m    805\u001b[0m \u001b[38;5;66;03m# validate the merge keys dtypes. We may need to coerce\u001b[39;00m\n\u001b[0;32m    806\u001b[0m \u001b[38;5;66;03m# to avoid incompatible dtypes\u001b[39;00m\n\u001b[1;32m--> 807\u001b[0m \u001b[38;5;28;43mself\u001b[39;49m\u001b[38;5;241;43m.\u001b[39;49m\u001b[43m_maybe_coerce_merge_keys\u001b[49m\u001b[43m(\u001b[49m\u001b[43m)\u001b[49m\n\u001b[0;32m    809\u001b[0m \u001b[38;5;66;03m# If argument passed to validate,\u001b[39;00m\n\u001b[0;32m    810\u001b[0m \u001b[38;5;66;03m# check if columns specified as unique\u001b[39;00m\n\u001b[0;32m    811\u001b[0m \u001b[38;5;66;03m# are in fact unique.\u001b[39;00m\n\u001b[0;32m    812\u001b[0m \u001b[38;5;28;01mif\u001b[39;00m validate \u001b[38;5;129;01mis\u001b[39;00m \u001b[38;5;129;01mnot\u001b[39;00m \u001b[38;5;28;01mNone\u001b[39;00m:\n",
      "File \u001b[1;32mc:\\Program Files\\Python313\\Lib\\site-packages\\pandas\\core\\reshape\\merge.py:1508\u001b[0m, in \u001b[0;36m_MergeOperation._maybe_coerce_merge_keys\u001b[1;34m(self)\u001b[0m\n\u001b[0;32m   1502\u001b[0m     \u001b[38;5;66;03m# unless we are merging non-string-like with string-like\u001b[39;00m\n\u001b[0;32m   1503\u001b[0m     \u001b[38;5;28;01melif\u001b[39;00m (\n\u001b[0;32m   1504\u001b[0m         inferred_left \u001b[38;5;129;01min\u001b[39;00m string_types \u001b[38;5;129;01mand\u001b[39;00m inferred_right \u001b[38;5;129;01mnot\u001b[39;00m \u001b[38;5;129;01min\u001b[39;00m string_types\n\u001b[0;32m   1505\u001b[0m     ) \u001b[38;5;129;01mor\u001b[39;00m (\n\u001b[0;32m   1506\u001b[0m         inferred_right \u001b[38;5;129;01min\u001b[39;00m string_types \u001b[38;5;129;01mand\u001b[39;00m inferred_left \u001b[38;5;129;01mnot\u001b[39;00m \u001b[38;5;129;01min\u001b[39;00m string_types\n\u001b[0;32m   1507\u001b[0m     ):\n\u001b[1;32m-> 1508\u001b[0m         \u001b[38;5;28;01mraise\u001b[39;00m \u001b[38;5;167;01mValueError\u001b[39;00m(msg)\n\u001b[0;32m   1510\u001b[0m \u001b[38;5;66;03m# datetimelikes must match exactly\u001b[39;00m\n\u001b[0;32m   1511\u001b[0m \u001b[38;5;28;01melif\u001b[39;00m needs_i8_conversion(lk\u001b[38;5;241m.\u001b[39mdtype) \u001b[38;5;129;01mand\u001b[39;00m \u001b[38;5;129;01mnot\u001b[39;00m needs_i8_conversion(rk\u001b[38;5;241m.\u001b[39mdtype):\n",
      "\u001b[1;31mValueError\u001b[0m: You are trying to merge on object and int64 columns for key 'movie_id'. If you wish to proceed you should use pd.concat"
     ]
    }
   ],
   "source": [
    "genre_roles = pd.merge(movies_with_genres, crew_desanidado, on=\"movie_id\", how=\"inner\")\n",
    "genre_roles_summary = genre_roles.groupby([\"genre_name\", \"job\"])[\"movie_id\"].count()\n",
    "print(\"Roles más comunes por género:\")\n",
    "print(genre_roles_summary.sort_values(ascending=False).head(10))\n"
   ]
  },
  {
   "cell_type": "code",
   "execution_count": 18,
   "metadata": {},
   "outputs": [
    {
     "name": "stdout",
     "output_type": "stream",
     "text": [
      "Tamaño del subconjunto de datos: (0, 3)\n"
     ]
    }
   ],
   "source": [
    "sample_movies = collection_genres[\"movie_id\"].unique()\n",
    "sample_data = movies_with_genres[movies_with_genres[\"movie_id\"].isin(sample_movies)]\n",
    "print(\"Tamaño del subconjunto de datos:\", sample_data.shape)\n"
   ]
  },
  {
   "cell_type": "code",
   "execution_count": 19,
   "metadata": {},
   "outputs": [
    {
     "name": "stdout",
     "output_type": "stream",
     "text": [
      "movie_id      object\n",
      "genre_ids     object\n",
      "genre_name    object\n",
      "dtype: object\n",
      "movie_id       int64\n",
      "credit_id     object\n",
      "department    object\n",
      "gender         int64\n",
      "id             int64\n",
      "job           object\n",
      "name          object\n",
      "dtype: object\n"
     ]
    }
   ],
   "source": [
    "print(movies_with_genres.dtypes)\n",
    "print(crew_desanidado.dtypes)\n"
   ]
  },
  {
   "cell_type": "code",
   "execution_count": 20,
   "metadata": {},
   "outputs": [],
   "source": [
    "movies_with_genres[\"movie_id\"] = movies_with_genres[\"movie_id\"].astype(str)\n",
    "crew_desanidado[\"movie_id\"] = crew_desanidado[\"movie_id\"].astype(str)\n"
   ]
  },
  {
   "cell_type": "code",
   "execution_count": 21,
   "metadata": {},
   "outputs": [],
   "source": [
    "genre_roles = pd.merge(movies_with_genres, crew_desanidado, on=\"movie_id\", how=\"inner\")\n"
   ]
  },
  {
   "cell_type": "code",
   "execution_count": 22,
   "metadata": {},
   "outputs": [
    {
     "name": "stdout",
     "output_type": "stream",
     "text": [
      "Roles más comunes por género:\n",
      "Series([], Name: movie_id, dtype: int64)\n"
     ]
    }
   ],
   "source": [
    "genre_roles_summary = genre_roles.groupby([\"genre_name\", \"job\"])[\"movie_id\"].count()\n",
    "print(\"Roles más comunes por género:\")\n",
    "print(genre_roles_summary.sort_values(ascending=False).head(10))\n"
   ]
  },
  {
   "cell_type": "code",
   "execution_count": 23,
   "metadata": {},
   "outputs": [],
   "source": [
    "genre_roles[\"movie_id\"] = genre_roles[\"movie_id\"].astype(int)\n"
   ]
  }
 ],
 "metadata": {
  "kernelspec": {
   "display_name": "Python 3",
   "language": "python",
   "name": "python3"
  },
  "language_info": {
   "codemirror_mode": {
    "name": "ipython",
    "version": 3
   },
   "file_extension": ".py",
   "mimetype": "text/x-python",
   "name": "python",
   "nbconvert_exporter": "python",
   "pygments_lexer": "ipython3",
   "version": "3.13.0"
  }
 },
 "nbformat": 4,
 "nbformat_minor": 2
}
